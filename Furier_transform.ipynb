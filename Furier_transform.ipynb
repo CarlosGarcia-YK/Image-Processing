{
 "cells": [
  {
   "cell_type": "code",
   "execution_count": 3,
   "metadata": {},
   "outputs": [],
   "source": [
    "import cv2 as cv\n",
    "import numpy as np\n",
    "import matplotlib.pyplot as plt\n",
    "\n",
    "# Cargar la imagen en escala de grises\n",
    "img = cv.imread(\"./Images/DIP3E_Original_Images_CH04/Fig0429(a)(blown_ic).tif\", cv.IMREAD_GRAYSCALE)\n",
    "\n"
   ]
  },
  {
   "cell_type": "code",
   "execution_count": 4,
   "metadata": {},
   "outputs": [
    {
     "data": {
      "text/plain": [
       "True"
      ]
     },
     "execution_count": 4,
     "metadata": {},
     "output_type": "execute_result"
    }
   ],
   "source": [
    "import numpy as np\n",
    "import cv2\n",
    "\n",
    "# read input and convert to grayscale\n",
    "#img = cv2.imread('lena_gray.png', cv2.IMREAD_GRAYSCALE)\n",
    "\n",
    "\n",
    "# do dft saving as complex output\n",
    "dft = np.fft.fft2(img, axes=(0,1))\n",
    "\n",
    "# apply shift of origin to center of image\n",
    "dft_shift = np.fft.fftshift(dft)\n",
    "\n",
    "# generate spectrum from magnitude image (for viewing only)\n",
    "mag = np.abs(dft_shift)\n",
    "spec = np.log(mag) / 20\n",
    "\n",
    "# create white circle mask on black background and invert so black circle on white background\n",
    "radius = 32\n",
    "mask = np.zeros_like(img)\n",
    "cy = mask.shape[0] // 2\n",
    "cx = mask.shape[1] // 2\n",
    "cv2.circle(mask, (cx,cy), radius, (255,255,255), -1)[0]\n",
    "mask = 255 - mask\n",
    "\n",
    "# blur the mask\n",
    "mask2 = cv2.GaussianBlur(mask, (19,19), 0)\n",
    "\n",
    "# apply mask to dft_shift\n",
    "dft_shift_masked = np.multiply(dft_shift,mask) / 255\n",
    "dft_shift_masked2 = np.multiply(dft_shift,mask2) / 255\n",
    "\n",
    "\n",
    "# shift origin from center to upper left corner\n",
    "back_ishift = np.fft.ifftshift(dft_shift)\n",
    "back_ishift_masked = np.fft.ifftshift(dft_shift_masked)\n",
    "back_ishift_masked2 = np.fft.ifftshift(dft_shift_masked2)\n",
    "\n",
    "\n",
    "# do idft saving as complex output\n",
    "img_back = np.fft.ifft2(back_ishift, axes=(0,1))\n",
    "img_filtered = np.fft.ifft2(back_ishift_masked, axes=(0,1))\n",
    "img_filtered2 = np.fft.ifft2(back_ishift_masked2, axes=(0,1))\n",
    "\n",
    "# combine complex real and imaginary components to form (the magnitude for) the original image again\n",
    "# multiply by 3 to increase brightness\n",
    "img_back = np.abs(img_back).clip(0,255).astype(np.uint8)\n",
    "img_filtered = np.abs(3*img_filtered).clip(0,255).astype(np.uint8)\n",
    "img_filtered2 = np.abs(3*img_filtered2).clip(0,255).astype(np.uint8)\n",
    "\n",
    "\n",
    "cv2.imshow(\"ORIGINAL\", img)\n",
    "cv2.imshow(\"SPECTRUM\", spec)\n",
    "cv2.imshow(\"MASK\", mask)\n",
    "cv2.imshow(\"MASK2\", mask2)\n",
    "cv2.imshow(\"ORIGINAL DFT/IFT ROUND TRIP\", img_back)\n",
    "cv2.imshow(\"FILTERED DFT/IFT ROUND TRIP\", img_filtered)\n",
    "cv2.imshow(\"FILTERED2 DFT/IFT ROUND TRIP\", img_filtered2)\n",
    "cv2.waitKey(0)\n",
    "cv2.destroyAllWindows()\n",
    "\n",
    "# write result to disk\n",
    "cv2.imwrite(\"lena_dft_numpy_mask_highpass.png\", mask)\n",
    "cv2.imwrite(\"lena_dft_numpy_mask_highpass_blurred.png\", mask2)\n",
    "cv2.imwrite(\"lena_d3eft_numpy_roundtrip.png\", img_back)\n",
    "cv2.imwrite(\"lena_dft_numpy_highpass_filtered1.png\", img_filtered)\n",
    "cv2.imwrite(\"lena_dft_numpy_highpass_filtered2.png\", img_filtered2)\n"
   ]
  }
 ],
 "metadata": {
  "kernelspec": {
   "display_name": "Python 3",
   "language": "python",
   "name": "python3"
  },
  "language_info": {
   "codemirror_mode": {
    "name": "ipython",
    "version": 3
   },
   "file_extension": ".py",
   "mimetype": "text/x-python",
   "name": "python",
   "nbconvert_exporter": "python",
   "pygments_lexer": "ipython3",
   "version": "3.11.9"
  }
 },
 "nbformat": 4,
 "nbformat_minor": 2
}
