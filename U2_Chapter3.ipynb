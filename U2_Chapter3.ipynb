{
 "cells": [
  {
   "cell_type": "code",
   "execution_count": null,
   "metadata": {},
   "outputs": [],
   "source": [
    "import cv2 as cv\n",
    "import numpy as np\n",
    "import matplotlib.pyplot as plt\n",
    "\n",
    "# Cargar la imagen en escala de grises\n",
    "img = cv.imread(\"./Images/U2_Chapter3.ipynb\", cv.IMREAD_GRAYSCALE)\n",
    "2\n",
    "\n"
   ]
  },
  {
   "cell_type": "code",
   "execution_count": null,
   "metadata": {},
   "outputs": [],
   "source": [
    "# Verificar que la imagen se haya cargado correctamente\n",
    "if img is None:\n",
    "    print(\"Error al cargar la imagen. Verifica la ruta.\")\n",
    "else:\n",
    "    # Obtener las dimensiones de la imagen\n",
    "    m, n = img.shape\n",
    "\n",
    "    # Crear una nueva imagen para almacenar el resultado\n",
    "    mask = np.ones((m, n),dtype = int)\n",
    "    mask = mask / 9\n",
    "\n",
    "    img_new = np.zeros([m,n],dtype=np.uint8)\n",
    "\n",
    "    # Aplicar el filtro de mediana manualmente\n",
    "    for i in range(1, m-1):\n",
    "        for j in range(1, n-1):\n",
    "            temp = temp = img[i-1, j-1]*mask[0, 0]+img[i-1, j]*mask[0, 1]+img[i-1, j + 1]*mask[0, 2]+img[i, j-1]*mask[1, 0]+ img[i, j]*mask[1, 1]+img[i, j + 1]*mask[1, 2]+img[i + 1, j-1]*mask[2, 0]+img[i + 1, j]*mask[2, 1]+img[i + 1, j + 1]*mask[2, 2]\n",
    "            img_new[i, j] = temp\n",
    "\n",
    "    # Convertir la imagen resultante a tipo uint8\n",
    "    img_new = img_new.astype(np.uint8)\n",
    "\n",
    "    # Mostrar la imagen original y la imagen filtrada\n",
    "    cv.imshow('Input', img)\n",
    "    cv.imshow('Output', img_new)\n",
    "\n",
    "    # Esperar a que se presione una tecla y cerrar las ventanas\n",
    "    cv.waitKey(0)\n",
    "    cv.destroyAllWindows()\n",
    "\n",
    "    # Alternativamente, puedes usar matplotlib para mostrar las imágenes\n",
    "    plt.figure(figsize=(10, 5))\n",
    "\n",
    "    plt.subplot(1, 2, 1)\n",
    "    plt.title('Imagen Original')\n",
    "    plt.imshow(img, cmap='gray')\n",
    "    plt.axis('off')\n",
    "\n",
    "    plt.subplot(1, 2, 2)\n",
    "    plt.title('Imagen con Filtro de Media')\n",
    "    plt.imshow(img_new, cmap='gray')\n",
    "    plt.axis('off')\n",
    "\n",
    "    plt.show()"
   ]
  }
 ],
 "metadata": {
  "kernelspec": {
   "display_name": "Python 3",
   "language": "python",
   "name": "python3"
  },
  "language_info": {
   "name": "python",
   "version": "3.11.9"
  }
 },
 "nbformat": 4,
 "nbformat_minor": 2
}
