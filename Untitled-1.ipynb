{
 "cells": [
  {
   "cell_type": "code",
   "execution_count": 1,
   "metadata": {},
   "outputs": [],
   "source": [
    "import cv2\n",
    "import numpy as np\n",
    "\n",
    "# Load the image\n",
    "image = cv2.imread('C:/Users/yourk/Downloads/IMG-20240412-WA0014.jpg')  # Replace 'example.jpg' with your image file\n",
    "cv2.imshow('Original Image', image)\n",
    "cv2.waitKey(0)\n",
    "cv2.destroyAllWindows()\n",
    "\n"
   ]
  },
  {
   "cell_type": "code",
   "execution_count": 2,
   "metadata": {},
   "outputs": [
    {
     "ename": "KeyboardInterrupt",
     "evalue": "",
     "output_type": "error",
     "traceback": [
      "\u001b[1;31m---------------------------------------------------------------------------\u001b[0m",
      "\u001b[1;31mKeyboardInterrupt\u001b[0m                         Traceback (most recent call last)",
      "Cell \u001b[1;32mIn[2], line 17\u001b[0m\n\u001b[0;32m     15\u001b[0m bright_image \u001b[38;5;241m=\u001b[39m direct_lighting(image)\n\u001b[0;32m     16\u001b[0m cv2\u001b[38;5;241m.\u001b[39mimshow(\u001b[38;5;124m'\u001b[39m\u001b[38;5;124mDirect Lighting\u001b[39m\u001b[38;5;124m'\u001b[39m, bright_image)\n\u001b[1;32m---> 17\u001b[0m \u001b[43mcv2\u001b[49m\u001b[38;5;241;43m.\u001b[39;49m\u001b[43mwaitKey\u001b[49m\u001b[43m(\u001b[49m\u001b[38;5;241;43m0\u001b[39;49m\u001b[43m)\u001b[49m\n\u001b[0;32m     18\u001b[0m cv2\u001b[38;5;241m.\u001b[39mdestroyAllWindows()\n",
      "\u001b[1;31mKeyboardInterrupt\u001b[0m: "
     ]
    }
   ],
   "source": [
    "def direct_lighting(image):\n",
    "    rows, cols, _ = image.shape\n",
    "    center_x, center_y = cols // 2, rows // 2\n",
    "\n",
    "    # Create a mask with a bright spot\n",
    "    mask = np.zeros((rows, cols), dtype=np.uint8)\n",
    "    cv2.circle(mask, (center_x, center_y), 100, (255), -1)\n",
    "    mask = cv2.GaussianBlur(mask, (101, 101), 0)\n",
    "\n",
    "    # Apply the mask to the image\n",
    "    bright_image = cv2.addWeighted(image, 1, cv2.cvtColor(mask, cv2.COLOR_GRAY2BGR), 0.7, 0)\n",
    "    \n",
    "    return bright_image\n",
    "\n",
    "bright_image = direct_lighting(image)\n",
    "cv2.imshow('Direct Lighting', bright_image)\n",
    "cv2.waitKey(0)\n",
    "cv2.destroyAllWindows()\n"
   ]
  },
  {
   "cell_type": "code",
   "execution_count": null,
   "metadata": {},
   "outputs": [],
   "source": [
    "def backlighting(image):\n",
    "    backlight_image = cv2.addWeighted(image, 0.5, np.zeros(image.shape, image.dtype), 0.5, 50)\n",
    "    return backlight_image\n",
    "\n",
    "backlight_image = backlighting(image)\n",
    "cv2.imshow('Backlighting', backlight_image)\n",
    "cv2.waitKey(0)\n",
    "cv2.destroyAllWindows()\n"
   ]
  },
  {
   "cell_type": "code",
   "execution_count": null,
   "metadata": {},
   "outputs": [],
   "source": [
    "def structured_lighting(image):\n",
    "    rows, cols, _ = image.shape\n",
    "    structured_image = image.copy()\n",
    "\n",
    "    # Draw grid lines\n",
    "    for i in range(0, cols, 20):\n",
    "        cv2.line(structured_image, (i, 0), (i, rows), (255, 255, 255), 1)\n",
    "    for i in range(0, rows, 20):\n",
    "        cv2.line(structured_image, (0, i), (cols, i), (255, 255, 255), 1)\n",
    "    \n",
    "    return structured_image\n",
    "\n",
    "structured_image = structured_lighting(image)\n",
    "cv2.imshow('Structured Lighting', structured_image)\n",
    "cv2.waitKey(0)\n",
    "cv2.destroyAllWindows()\n"
   ]
  },
  {
   "cell_type": "code",
   "execution_count": null,
   "metadata": {},
   "outputs": [],
   "source": [
    "def ring_lighting(image):\n",
    "    rows, cols, _ = image.shape\n",
    "    center_x, center_y = cols // 2, rows // 2\n",
    "\n",
    "    # Create a mask with a ring\n",
    "    mask = np.zeros((rows, cols), dtype=np.uint8)\n",
    "    cv2.circle(mask, (center_x, center_y), 200, (255), -1)\n",
    "    cv2.circle(mask, (center_x, center_y), 100, (0), -1)\n",
    "    mask = cv2.GaussianBlur(mask, (101, 101), 0)\n",
    "\n",
    "    # Apply the mask to the image\n",
    "    ring_image = cv2.addWeighted(image, 1, cv2.cvtColor(mask, cv2.COLOR_GRAY2BGR), 0.7, 0)\n",
    "    \n",
    "    return ring_image\n",
    "\n",
    "ring_image = ring_lighting(image)\n",
    "cv2.imshow('Ring Lighting', ring_image)\n",
    "cv2.waitKey(0)\n",
    "cv2.destroyAllWindows()\n"
   ]
  },
  {
   "cell_type": "code",
   "execution_count": 7,
   "metadata": {},
   "outputs": [
    {
     "ename": "AttributeError",
     "evalue": "'NoneType' object has no attribute 'shape'",
     "output_type": "error",
     "traceback": [
      "\u001b[1;31m---------------------------------------------------------------------------\u001b[0m",
      "\u001b[1;31mAttributeError\u001b[0m                            Traceback (most recent call last)",
      "Cell \u001b[1;32mIn[7], line 44\u001b[0m\n\u001b[0;32m     41\u001b[0m     \u001b[38;5;28;01mreturn\u001b[39;00m ring_image\n\u001b[0;32m     43\u001b[0m \u001b[38;5;66;03m# Apply and display each lighting technique\u001b[39;00m\n\u001b[1;32m---> 44\u001b[0m bright_image \u001b[38;5;241m=\u001b[39m \u001b[43mdirect_lighting\u001b[49m\u001b[43m(\u001b[49m\u001b[43mimage\u001b[49m\u001b[43m)\u001b[49m\n\u001b[0;32m     45\u001b[0m cv2\u001b[38;5;241m.\u001b[39mimshow(\u001b[38;5;124m'\u001b[39m\u001b[38;5;124mDirect Lighting\u001b[39m\u001b[38;5;124m'\u001b[39m, bright_image)\n\u001b[0;32m     46\u001b[0m cv2\u001b[38;5;241m.\u001b[39mwaitKey(\u001b[38;5;241m0\u001b[39m)\n",
      "Cell \u001b[1;32mIn[7], line 8\u001b[0m, in \u001b[0;36mdirect_lighting\u001b[1;34m(image)\u001b[0m\n\u001b[0;32m      7\u001b[0m \u001b[38;5;28;01mdef\u001b[39;00m \u001b[38;5;21mdirect_lighting\u001b[39m(image):\n\u001b[1;32m----> 8\u001b[0m     rows, cols, _ \u001b[38;5;241m=\u001b[39m \u001b[43mimage\u001b[49m\u001b[38;5;241;43m.\u001b[39;49m\u001b[43mshape\u001b[49m\n\u001b[0;32m      9\u001b[0m     center_x, center_y \u001b[38;5;241m=\u001b[39m cols \u001b[38;5;241m/\u001b[39m\u001b[38;5;241m/\u001b[39m \u001b[38;5;241m2\u001b[39m, rows \u001b[38;5;241m/\u001b[39m\u001b[38;5;241m/\u001b[39m \u001b[38;5;241m2\u001b[39m\n\u001b[0;32m     10\u001b[0m     mask \u001b[38;5;241m=\u001b[39m np\u001b[38;5;241m.\u001b[39mzeros((rows, cols), dtype\u001b[38;5;241m=\u001b[39mnp\u001b[38;5;241m.\u001b[39muint8)\n",
      "\u001b[1;31mAttributeError\u001b[0m: 'NoneType' object has no attribute 'shape'"
     ]
    }
   ],
   "source": [
    "import cv2\n",
    "import numpy as np\n",
    "\n",
    "# Load the image\n",
    "image = cv2.imread('\"C:/Users/yourk/Pictures/Screenshots/1659117158.royz_post.jpg\"')  # Replace 'example.jpg' with your image file\n",
    "\n",
    "def direct_lighting(image):\n",
    "    rows, cols, _ = image.shape\n",
    "    center_x, center_y = cols // 2, rows // 2\n",
    "    mask = np.zeros((rows, cols), dtype=np.uint8)\n",
    "    cv2.circle(mask, (center_x, center_y), 100, (255), -1)\n",
    "    mask = cv2.GaussianBlur(mask, (101, 101), 0)\n",
    "    bright_image = cv2.addWeighted(image, 1, cv2.cvtColor(mask, cv2.COLOR_GRAY2BGR), 0.7, 0)\n",
    "    return bright_image\n",
    "\n",
    "def diffuse_lighting(image):\n",
    "    diffuse_image = cv2.GaussianBlur(image, (21, 21), 0)\n",
    "    return diffuse_image\n",
    "\n",
    "def backlighting(image):\n",
    "    backlight_image = cv2.addWeighted(image, 0.5, np.zeros(image.shape, image.dtype), 0.5, 50)\n",
    "    return backlight_image\n",
    "\n",
    "def structured_lighting(image):\n",
    "    rows, cols, _ = image.shape\n",
    "    structured_image = image.copy()\n",
    "    for i in range(0, cols, 20):\n",
    "        cv2.line(structured_image, (i, 0), (i, rows), (255, 255, 255), 1)\n",
    "    for i in range(0, rows, 20):\n",
    "        cv2.line(structured_image, (0, i), (cols, i), (255, 255, 255), 1)\n",
    "    return structured_image\n",
    "\n",
    "def ring_lighting(image):\n",
    "    rows, cols, _ = image.shape\n",
    "    center_x, center_y = cols // 2, rows // 2\n",
    "    mask = np.zeros((rows, cols), dtype=np.uint8)\n",
    "    cv2.circle(mask, (center_x, center_y), 200, (255), -1)\n",
    "    cv2.circle(mask, (center_x, center_y), 100, (0), -1)\n",
    "    mask = cv2.GaussianBlur(mask, (101, 101), 0)\n",
    "    ring_image = cv2.addWeighted(image, 1, cv2.cvtColor(mask, cv2.COLOR_GRAY2BGR), 0.7, 0)\n",
    "    return ring_image\n",
    "\n",
    "# Apply and display each lighting technique\n",
    "bright_image = direct_lighting(image)\n",
    "cv2.imshow('Direct Lighting', bright_image)\n",
    "cv2.waitKey(0)\n",
    "\n",
    "diffuse_image = diffuse_lighting(image)\n",
    "cv2.imshow('Diffuse Lighting', diffuse_image)\n",
    "cv2.waitKey(0)\n",
    "\n",
    "backlight_image = backlighting(image)\n",
    "cv2.imshow('Backlighting', backlight_image)\n",
    "cv2.waitKey(0)\n",
    "\n",
    "structured_image = structured_lighting(image)\n",
    "cv2.imshow('Structured Lighting', structured_image)\n",
    "cv2.waitKey(0)\n",
    "\n",
    "ring_image = ring_lighting(image)\n",
    "cv2.imshow('Ring Lighting', ring_image)\n",
    "cv2.waitKey(0)\n",
    "\n",
    "cv2.destroyAllWindows()\n"
   ]
  }
 ],
 "metadata": {
  "kernelspec": {
   "display_name": "Python 3",
   "language": "python",
   "name": "python3"
  },
  "language_info": {
   "codemirror_mode": {
    "name": "ipython",
    "version": 3
   },
   "file_extension": ".py",
   "mimetype": "text/x-python",
   "name": "python",
   "nbconvert_exporter": "python",
   "pygments_lexer": "ipython3",
   "version": "3.11.9"
  }
 },
 "nbformat": 4,
 "nbformat_minor": 2
}
